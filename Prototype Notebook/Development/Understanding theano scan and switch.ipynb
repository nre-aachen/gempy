{
 "cells": [
  {
   "cell_type": "code",
   "execution_count": 1,
   "metadata": {
    "ExecuteTime": {
     "end_time": "2016-11-15T17:24:02.877946",
     "start_time": "2016-11-15T17:24:01.867560"
    },
    "collapsed": false
   },
   "outputs": [],
   "source": [
    "import theano.tensor as T\n",
    "import theano\n",
    "import numpy as np\n",
    "import matplotlib.pyplot as plt\n",
    "theano.config.compute_test_value = \"ignore\"\n",
    "\n"
   ]
  },
  {
   "cell_type": "code",
   "execution_count": 2,
   "metadata": {
    "ExecuteTime": {
     "end_time": "2016-11-15T17:24:03.068528",
     "start_time": "2016-11-15T17:24:03.037068"
    },
    "collapsed": false
   },
   "outputs": [
    {
     "data": {
      "text/plain": [
       "array([2, 4, 5])"
      ]
     },
     "execution_count": 2,
     "metadata": {},
     "output_type": "execute_result"
    }
   ],
   "source": [
    "np.array([2,4,5])"
   ]
  },
  {
   "cell_type": "code",
   "execution_count": 3,
   "metadata": {
    "ExecuteTime": {
     "end_time": "2016-11-16T12:41:57.721298",
     "start_time": "2016-11-16T12:41:55.823293"
    },
    "collapsed": false
   },
   "outputs": [],
   "source": [
    "Zx = T.matrix(\"Zx\")\n",
    "PV = T.vector(\"PV\")\n",
    "form = T.vector()\n",
    "#b = T.vector()\n",
    "\n",
    "PV2 = T.concatenate((T.stack(-9999), PV, T.stack(9999)))\n",
    "\n",
    "def clap(a, b, form, Zx):\n",
    "    return T.ge(Zx,a)*T.le(Zx,b)*form\n",
    "\n",
    "components, updates = theano.scan(fn = clap,\n",
    "                                 outputs_info = None,\n",
    "                                 sequences = [dict(input=  PV2, taps = [0,1]), form],\n",
    "                                 non_sequences = Zx)\n",
    "\n",
    "f = theano.function([Zx, PV, form], components, on_unused_input='ignore',allow_input_downcast=True)"
   ]
  },
  {
   "cell_type": "code",
   "execution_count": 4,
   "metadata": {
    "ExecuteTime": {
     "end_time": "2016-11-16T12:42:18.404218",
     "start_time": "2016-11-16T12:42:18.397854"
    },
    "collapsed": false
   },
   "outputs": [],
   "source": [
    " a  =f(np.random.uniform(0,10, (10,10)),(5,2), [7,8,])"
   ]
  },
  {
   "cell_type": "code",
   "execution_count": 5,
   "metadata": {
    "ExecuteTime": {
     "end_time": "2016-11-16T12:42:18.956496",
     "start_time": "2016-11-16T12:42:18.943088"
    },
    "collapsed": false
   },
   "outputs": [
    {
     "data": {
      "text/plain": [
       "array([[[ 7.,  0.,  0.,  7.,  7.,  7.,  7.,  0.,  0.,  7.],\n",
       "        [ 7.,  7.,  7.,  0.,  0.,  7.,  0.,  0.,  7.,  0.],\n",
       "        [ 0.,  7.,  0.,  7.,  0.,  0.,  0.,  7.,  0.,  0.],\n",
       "        [ 7.,  0.,  7.,  0.,  0.,  0.,  7.,  0.,  7.,  0.],\n",
       "        [ 7.,  7.,  0.,  0.,  7.,  7.,  7.,  0.,  7.,  7.],\n",
       "        [ 7.,  0.,  0.,  7.,  7.,  7.,  0.,  0.,  7.,  0.],\n",
       "        [ 0.,  7.,  0.,  0.,  0.,  0.,  7.,  7.,  7.,  7.],\n",
       "        [ 0.,  7.,  0.,  7.,  7.,  7.,  7.,  0.,  0.,  0.],\n",
       "        [ 0.,  7.,  7.,  7.,  7.,  0.,  0.,  7.,  7.,  7.],\n",
       "        [ 7.,  0.,  0.,  7.,  7.,  7.,  7.,  7.,  0.,  7.]],\n",
       "\n",
       "       [[ 0.,  0.,  0.,  0.,  0.,  0.,  0.,  0.,  0.,  0.],\n",
       "        [ 0.,  0.,  0.,  0.,  0.,  0.,  0.,  0.,  0.,  0.],\n",
       "        [ 0.,  0.,  0.,  0.,  0.,  0.,  0.,  0.,  0.,  0.],\n",
       "        [ 0.,  0.,  0.,  0.,  0.,  0.,  0.,  0.,  0.,  0.],\n",
       "        [ 0.,  0.,  0.,  0.,  0.,  0.,  0.,  0.,  0.,  0.],\n",
       "        [ 0.,  0.,  0.,  0.,  0.,  0.,  0.,  0.,  0.,  0.],\n",
       "        [ 0.,  0.,  0.,  0.,  0.,  0.,  0.,  0.,  0.,  0.],\n",
       "        [ 0.,  0.,  0.,  0.,  0.,  0.,  0.,  0.,  0.,  0.],\n",
       "        [ 0.,  0.,  0.,  0.,  0.,  0.,  0.,  0.,  0.,  0.],\n",
       "        [ 0.,  0.,  0.,  0.,  0.,  0.,  0.,  0.,  0.,  0.]]])"
      ]
     },
     "execution_count": 5,
     "metadata": {},
     "output_type": "execute_result"
    }
   ],
   "source": [
    "a"
   ]
  },
  {
   "cell_type": "code",
   "execution_count": 6,
   "metadata": {
    "ExecuteTime": {
     "end_time": "2016-11-16T11:44:54.263573",
     "start_time": "2016-11-16T11:44:54.243462"
    },
    "collapsed": false
   },
   "outputs": [
    {
     "data": {
      "text/plain": [
       "array([[[ 7.,  0.,  0.,  7.,  7.,  7.,  7.,  0.,  0.,  7.],\n",
       "        [ 7.,  7.,  7.,  0.,  0.,  7.,  0.,  0.,  7.,  0.],\n",
       "        [ 0.,  7.,  0.,  7.,  0.,  0.,  0.,  7.,  0.,  0.],\n",
       "        [ 7.,  0.,  7.,  0.,  0.,  0.,  7.,  0.,  7.,  0.],\n",
       "        [ 7.,  7.,  0.,  0.,  7.,  7.,  7.,  0.,  7.,  7.],\n",
       "        [ 7.,  0.,  0.,  7.,  7.,  7.,  0.,  0.,  7.,  0.],\n",
       "        [ 0.,  7.,  0.,  0.,  0.,  0.,  7.,  7.,  7.,  7.],\n",
       "        [ 0.,  7.,  0.,  7.,  7.,  7.,  7.,  0.,  0.,  0.],\n",
       "        [ 0.,  7.,  7.,  7.,  7.,  0.,  0.,  7.,  7.,  7.],\n",
       "        [ 7.,  0.,  0.,  7.,  7.,  7.,  7.,  7.,  0.,  7.]],\n",
       "\n",
       "       [[ 0.,  0.,  0.,  0.,  0.,  0.,  0.,  0.,  0.,  0.],\n",
       "        [ 0.,  0.,  0.,  0.,  0.,  0.,  0.,  0.,  0.,  0.],\n",
       "        [ 0.,  0.,  0.,  0.,  0.,  0.,  0.,  0.,  0.,  0.],\n",
       "        [ 0.,  0.,  0.,  0.,  0.,  0.,  0.,  0.,  0.,  0.],\n",
       "        [ 0.,  0.,  0.,  0.,  0.,  0.,  0.,  0.,  0.,  0.],\n",
       "        [ 0.,  0.,  0.,  0.,  0.,  0.,  0.,  0.,  0.,  0.],\n",
       "        [ 0.,  0.,  0.,  0.,  0.,  0.,  0.,  0.,  0.,  0.],\n",
       "        [ 0.,  0.,  0.,  0.,  0.,  0.,  0.,  0.,  0.,  0.],\n",
       "        [ 0.,  0.,  0.,  0.,  0.,  0.,  0.,  0.,  0.,  0.],\n",
       "        [ 0.,  0.,  0.,  0.,  0.,  0.,  0.,  0.,  0.,  0.]]])"
      ]
     },
     "execution_count": 6,
     "metadata": {},
     "output_type": "execute_result"
    }
   ],
   "source": [
    "a"
   ]
  },
  {
   "cell_type": "code",
   "execution_count": 9,
   "metadata": {
    "collapsed": false
   },
   "outputs": [
    {
     "data": {
      "text/plain": [
       "numpy.float32"
      ]
     },
     "execution_count": 9,
     "metadata": {},
     "output_type": "execute_result"
    }
   ],
   "source": [
    "type(np.float32(np.inf))"
   ]
  },
  {
   "cell_type": "code",
   "execution_count": 37,
   "metadata": {
    "collapsed": false
   },
   "outputs": [
    {
     "data": {
      "text/plain": [
       "array(inf, dtype=float32)"
      ]
     },
     "execution_count": 37,
     "metadata": {},
     "output_type": "execute_result"
    }
   ],
   "source": [
    "a = T.scalar()\n",
    "\n",
    "a.eval({a:1e50})"
   ]
  },
  {
   "cell_type": "code",
   "execution_count": 14,
   "metadata": {
    "ExecuteTime": {
     "end_time": "2016-11-04T15:55:14.100675",
     "start_time": "2016-11-04T15:55:14.093474"
    },
    "collapsed": false,
    "scrolled": false
   },
   "outputs": [
    {
     "name": "stdout",
     "output_type": "stream",
     "text": [
      "Help on function scan in module theano.scan_module.scan:\n",
      "\n",
      "scan(fn, sequences=None, outputs_info=None, non_sequences=None, n_steps=None, truncate_gradient=-1, go_backwards=False, mode=None, name=None, profile=False, allow_gc=None, strict=False)\n",
      "    This function constructs and applies a Scan op to the provided\n",
      "    arguments.\n",
      "    \n",
      "    Parameters\n",
      "    ----------\n",
      "    fn\n",
      "        ``fn`` is a function that describes the operations involved in one\n",
      "        step of ``scan``. ``fn`` should construct variables describing the\n",
      "        output of one iteration step. It should expect as input theano\n",
      "        variables representing all the slices of the input sequences\n",
      "        and previous values of the outputs, as well as all other arguments\n",
      "        given to scan as ``non_sequences``. The order in which scan passes\n",
      "        these variables to ``fn``  is the following :\n",
      "    \n",
      "        * all time slices of the first sequence\n",
      "        * all time slices of the second sequence\n",
      "        * ...\n",
      "        * all time slices of the last sequence\n",
      "        * all past slices of the first output\n",
      "        * all past slices of the second otuput\n",
      "        * ...\n",
      "        * all past slices of the last output\n",
      "        * all other arguments (the list given as `non_sequences` to\n",
      "            scan)\n",
      "    \n",
      "        The order of the sequences is the same as the one in the list\n",
      "        `sequences` given to scan. The order of the outputs is the same\n",
      "        as the order of ``outputs_info``. For any sequence or output the\n",
      "        order of the time slices is the same as the one in which they have\n",
      "        been given as taps. For example if one writes the following :\n",
      "    \n",
      "        .. code-block:: python\n",
      "    \n",
      "            scan(fn, sequences = [ dict(input= Sequence1, taps = [-3,2,-1])\n",
      "                                 , Sequence2\n",
      "                                 , dict(input =  Sequence3, taps = 3) ]\n",
      "                   , outputs_info = [ dict(initial =  Output1, taps = [-3,-5])\n",
      "                                    , dict(initial = Output2, taps = None)\n",
      "                                    , Output3 ]\n",
      "                   , non_sequences = [ Argument1, Argument2])\n",
      "    \n",
      "        ``fn`` should expect the following arguments in this given order:\n",
      "    \n",
      "        #. ``Sequence1[t-3]``\n",
      "        #. ``Sequence1[t+2]``\n",
      "        #. ``Sequence1[t-1]``\n",
      "        #. ``Sequence2[t]``\n",
      "        #. ``Sequence3[t+3]``\n",
      "        #. ``Output1[t-3]``\n",
      "        #. ``Output1[t-5]``\n",
      "        #. ``Output3[t-1]``\n",
      "        #. ``Argument1``\n",
      "        #. ``Argument2``\n",
      "    \n",
      "        The list of ``non_sequences`` can also contain shared variables\n",
      "        used in the function, though ``scan`` is able to figure those\n",
      "        out on its own so they can be skipped. For the clarity of the\n",
      "        code we recommend though to provide them to scan. To some extend\n",
      "        ``scan`` can also figure out other ``non sequences`` (not shared)\n",
      "        even if not passed to scan (but used by `fn`). A simple example of\n",
      "        this would be :\n",
      "    \n",
      "        .. code-block:: python\n",
      "    \n",
      "            import theano.tensor as TT\n",
      "            W   = TT.matrix()\n",
      "            W_2 = W**2\n",
      "            def f(x):\n",
      "                return TT.dot(x,W_2)\n",
      "    \n",
      "        The function is expected to return two things. One is a list of\n",
      "        outputs ordered in the same order as ``outputs_info``, with the\n",
      "        difference that there should be only one output variable per\n",
      "        output initial state (even if no tap value is used). Secondly\n",
      "        `fn` should return an update dictionary (that tells how to\n",
      "        update any shared variable after each iteration step). The\n",
      "        dictionary can optionally be given as a list of tuples. There is\n",
      "        no constraint on the order of these two list, ``fn`` can return\n",
      "        either ``(outputs_list, update_dictionary)`` or\n",
      "        ``(update_dictionary, outputs_list)`` or just one of the two (in\n",
      "        case the other is empty).\n",
      "    \n",
      "        To use ``scan`` as a while loop, the user needs to change the\n",
      "        function ``fn`` such that also a stopping condition is returned.\n",
      "        To do so, he/she needs to wrap the condition in an ``until`` class.\n",
      "        The condition should be returned as a third element, for example:\n",
      "    \n",
      "        .. code-block:: python\n",
      "    \n",
      "            ...\n",
      "            return [y1_t, y2_t], {x:x+1}, theano.scan_module.until(x < 50)\n",
      "    \n",
      "        Note that a number of steps (considered in here as the maximum\n",
      "        number of steps ) is still required even though a condition is\n",
      "        passed (and it is used to allocate memory if needed). = {}):\n",
      "    \n",
      "    sequences\n",
      "        ``sequences`` is the list of Theano variables or dictionaries\n",
      "        describing the sequences ``scan`` has to iterate over. If a\n",
      "        sequence is given as wrapped in a dictionary, then a set of optional\n",
      "        information can be provided about the sequence. The dictionary\n",
      "        should have the following keys:\n",
      "    \n",
      "        * ``input`` (*mandatory*) -- Theano variable representing the\n",
      "          sequence.\n",
      "    \n",
      "        * ``taps`` -- Temporal taps of the sequence required by ``fn``.\n",
      "          They are provided as a list of integers, where a value ``k``\n",
      "          impiles that at iteration step ``t`` scan will pass to ``fn``\n",
      "          the slice ``t+k``. Default value is ``[0]``\n",
      "    \n",
      "        Any Theano variable in the list ``sequences`` is automatically\n",
      "        wrapped into a dictionary where ``taps`` is set to ``[0]``\n",
      "    \n",
      "    outputs_info\n",
      "        ``outputs_info`` is the list of Theano variables or dictionaries\n",
      "        describing the initial state of the outputs computed\n",
      "        recurrently. When this initial states are given as dictionary\n",
      "        optional information can be provided about the output corresponding\n",
      "        to these initial states. The dictionary should have the following\n",
      "        keys:\n",
      "    \n",
      "        * ``initial`` -- Theano variable that represents the initial\n",
      "          state of a given output. In case the output is not computed\n",
      "          recursively (think of a map) and does not require an initial\n",
      "          state this field can be skipped. Given that (only) the previous\n",
      "          time step of the output is used by ``fn``, the initial state\n",
      "          **should have the same shape** as the output and **should not\n",
      "          involve a downcast** of the data type of the output. If multiple\n",
      "          time taps are used, the initial state should have one extra\n",
      "          dimension that should cover all the possible taps. For example\n",
      "          if we use ``-5``, ``-2`` and ``-1`` as past taps, at step 0,\n",
      "          ``fn`` will require (by an abuse of notation) ``output[-5]``,\n",
      "          ``output[-2]`` and ``output[-1]``. This will be given by\n",
      "          the initial state, which in this case should have the shape\n",
      "          (5,)+output.shape. If this variable containing the initial\n",
      "          state is called ``init_y`` then ``init_y[0]`` *corresponds to*\n",
      "          ``output[-5]``. ``init_y[1]`` *correponds to* ``output[-4]``,\n",
      "          ``init_y[2]`` corresponds to ``output[-3]``, ``init_y[3]``\n",
      "          coresponds to ``output[-2]``, ``init_y[4]`` corresponds to\n",
      "          ``output[-1]``. While this order might seem strange, it comes\n",
      "          natural from splitting an array at a given point. Assume that\n",
      "          we have a array ``x``, and we choose ``k`` to be time step\n",
      "          ``0``. Then our initial state would be ``x[:k]``, while the\n",
      "          output will be ``x[k:]``. Looking at this split, elements in\n",
      "          ``x[:k]`` are ordered exactly like those in ``init_y``.\n",
      "        * ``taps`` -- Temporal taps of the output that will be pass to\n",
      "          ``fn``. They are provided as a list of *negative* integers,\n",
      "          where a value ``k`` implies that at iteration step ``t`` scan\n",
      "          will pass to ``fn`` the slice ``t+k``.\n",
      "    \n",
      "        ``scan`` will follow this logic if partial information is given:\n",
      "    \n",
      "        * If an output is not wrapped in a dictionary, ``scan`` will wrap\n",
      "          it in one assuming that you use only the last step of the output\n",
      "          (i.e. it makes your tap value list equal to [-1]).\n",
      "        * If you wrap an output in a dictionary and you do not provide any\n",
      "          taps but you provide an initial state it will assume that you are\n",
      "          using only a tap value of -1.\n",
      "        * If you wrap an output in a dictionary but you do not provide any\n",
      "          initial state, it assumes that you are not using any form of\n",
      "          taps.\n",
      "        * If you provide a ``None`` instead of a variable or a empty\n",
      "          dictionary ``scan`` assumes that you will not use any taps for\n",
      "          this output (like for example in case of a map)\n",
      "    \n",
      "        If ``outputs_info`` is an empty list or None, ``scan`` assumes\n",
      "        that no tap is used for any of the outputs. If information is\n",
      "        provided just for a subset of the outputs an exception is\n",
      "        raised (because there is no convention on how scan should map\n",
      "        the provided information to the outputs of ``fn``)\n",
      "    \n",
      "    non_sequences\n",
      "        ``non_sequences`` is the list of arguments that are passed to\n",
      "        ``fn`` at each steps. One can opt to exclude variable\n",
      "        used in ``fn`` from this list as long as they are part of the\n",
      "        computational graph, though for clarity we encourage not to do so.\n",
      "    \n",
      "    n_steps\n",
      "        ``n_steps`` is the number of steps to iterate given as an int\n",
      "        or Theano scalar. If any of the input sequences do not have\n",
      "        enough elements, scan will raise an error. If the *value is 0* the\n",
      "        outputs will have *0 rows*. If the value is negative, ``scan``\n",
      "        will run backwards in time. If the ``go_backwards`` flag is already\n",
      "        set and also ``n_steps`` is negative, ``scan`` will run forward\n",
      "        in time. If n_steps is not provided, ``scan`` will figure\n",
      "        out the amount of steps it should run given its input sequences.\n",
      "    \n",
      "    truncate_gradient\n",
      "        ``truncate_gradient`` is the number of steps to use in truncated\n",
      "        BPTT.  If you compute gradients through a scan op, they are\n",
      "        computed using backpropagation through time. By providing a\n",
      "        different value then -1, you choose to use truncated BPTT instead\n",
      "        of classical BPTT, where you go for only ``truncate_gradient``\n",
      "        number of steps back in time.\n",
      "    \n",
      "    go_backwards\n",
      "        ``go_backwards`` is a flag indicating if ``scan`` should go\n",
      "        backwards through the sequences. If you think of each sequence\n",
      "        as indexed by time, making this flag True would mean that\n",
      "        ``scan`` goes back in time, namely that for any sequence it\n",
      "        starts from the end and goes towards 0.\n",
      "    \n",
      "    name\n",
      "        When profiling ``scan``, it is crucial to provide a name for any\n",
      "        instance of ``scan``. The profiler will produce an overall\n",
      "        profile of your code as well as profiles for the computation of\n",
      "        one step of each instance of ``scan``. The ``name`` of the instance\n",
      "        appears in those profiles and can greatly help to disambiguate\n",
      "        information.\n",
      "    \n",
      "    mode\n",
      "        It is recommended to leave this argument to None, especially\n",
      "        when profiling ``scan`` (otherwise the results are not going to\n",
      "        be accurate). If you prefer the computations of one step of\n",
      "        ``scan`` to be done differently then the entire function, you\n",
      "        can use this parameter to describe how the computations in this\n",
      "        loop are done (see ``theano.function`` for details about\n",
      "        possible values and their meaning).\n",
      "    \n",
      "    profile\n",
      "        Flag or string. If true, or different from the empty string, a\n",
      "        profile object will be created and attached to the inner graph of\n",
      "        scan. In case ``profile`` is True, the profile object will have the\n",
      "        name of the scan instance, otherwise it will have the passed string.\n",
      "        Profile object collect (and print) information only when running the\n",
      "        inner graph with the new cvm linker ( with default modes,\n",
      "        other linkers this argument is useless)\n",
      "    \n",
      "    allow_gc\n",
      "        Set the value of allow gc for the internal graph of scan.  If\n",
      "        set to None, this will use the value of config.scan.allow_gc.\n",
      "    \n",
      "    strict\n",
      "        If true, all the shared variables used in ``fn`` must be provided as a\n",
      "        part of ``non_sequences`` or ``sequences``.\n",
      "    \n",
      "    Returns\n",
      "    -------\n",
      "    tuple\n",
      "        Tuple of the form (outputs, updates); ``outputs`` is either a\n",
      "        Theano variable or a list of Theano variables representing the\n",
      "        outputs of ``scan`` (in the same order as in ``outputs_info``).\n",
      "        ``updates`` is a subclass of dictionary specifying the update rules for\n",
      "        all shared variables used in scan.\n",
      "        This dictionary should be passed to ``theano.function`` when you compile\n",
      "        your function. The change compared to a normal dictionary is that we\n",
      "        validate that keys are SharedVariable and addition of those dictionary\n",
      "        are validated to be consistent.\n",
      "\n"
     ]
    }
   ],
   "source": [
    "help(theano.scan)"
   ]
  },
  {
   "cell_type": "code",
   "execution_count": 11,
   "metadata": {
    "ExecuteTime": {
     "end_time": "2016-11-04T15:45:42.676068",
     "start_time": "2016-11-04T15:45:30.014594"
    },
    "collapsed": false
   },
   "outputs": [
    {
     "name": "stdout",
     "output_type": "stream",
     "text": [
      "10\n"
     ]
    }
   ],
   "source": [
    "count=0\n",
    "for i in range(1,11):\n",
    "    count+=1\n",
    "print( count)\n",
    "\n",
    "def caca(previous_count):\n",
    "    return previous_count+1\n",
    "\n",
    "import theano as th\n",
    "i = T.iscalar('i')\n",
    "results, updates = th.scan(fn= caca,\n",
    "                            outputs_info=0,\n",
    "                            n_steps=i)"
   ]
  }
 ],
 "metadata": {
  "anaconda-cloud": {},
  "kernelspec": {
   "display_name": "Python [Root]",
   "language": "python",
   "name": "Python [Root]"
  },
  "language_info": {
   "codemirror_mode": {
    "name": "ipython",
    "version": 3
   },
   "file_extension": ".py",
   "mimetype": "text/x-python",
   "name": "python",
   "nbconvert_exporter": "python",
   "pygments_lexer": "ipython3",
   "version": "3.5.2"
  },
  "latex_envs": {
   "bibliofile": "biblio.bib",
   "cite_by": "apalike",
   "current_citInitial": 1,
   "eqLabelWithNumbers": true,
   "eqNumInitial": 0
  },
  "nav_menu": {},
  "toc": {
   "navigate_menu": true,
   "number_sections": true,
   "sideBar": true,
   "threshold": 6,
   "toc_cell": false,
   "toc_section_display": "block",
   "toc_window_display": false
  }
 },
 "nbformat": 4,
 "nbformat_minor": 0
}
